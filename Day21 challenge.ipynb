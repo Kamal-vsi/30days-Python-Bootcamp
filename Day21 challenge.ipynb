{
 "cells": [
  {
   "cell_type": "markdown",
   "id": "b7d05079",
   "metadata": {},
   "source": [
    "## Day 21 Challenge"
   ]
  },
  {
   "cell_type": "markdown",
   "id": "b0afedd9",
   "metadata": {},
   "source": [
    "# Map, Filter, Zip, reduce"
   ]
  },
  {
   "cell_type": "markdown",
   "id": "16e0cf75",
   "metadata": {},
   "source": [
    "## 1. write a program using zip() function and list() function, create a merged list of tuples from the two lists given"
   ]
  },
  {
   "cell_type": "code",
   "execution_count": 25,
   "id": "43826170",
   "metadata": {},
   "outputs": [
    {
     "name": "stdout",
     "output_type": "stream",
     "text": [
      "[('kamal', 'kannan'), ('shiva', 'sakthi'), ('krishna', 'radha')]\n"
     ]
    }
   ],
   "source": [
    "list1=['kamal', 'shiva', 'krishna']\n",
    "list2=['kannan', 'sakthi', 'radha']\n",
    "result=list(zip(list1, list2))\n",
    "print(result)"
   ]
  },
  {
   "cell_type": "markdown",
   "id": "9eff5838",
   "metadata": {},
   "source": [
    "## 2.First create a range from 1 to 8. then using zip, merge the given list and the range together to create a new list of tuples"
   ]
  },
  {
   "cell_type": "code",
   "execution_count": 27,
   "id": "0df1a48c",
   "metadata": {},
   "outputs": [
    {
     "name": "stdout",
     "output_type": "stream",
     "text": [
      "[(1, 'a'), (2, 'b'), (3, 'c'), (4, 'd'), (5, 'e'), (6, 'f'), (7, 'g'), (8, 'h')]\n"
     ]
    }
   ],
   "source": [
    "range1=[1,2,3,4,5,6,7,8]\n",
    "list1=['a', 'b', 'c', 'd', 'e', 'f', 'g', 'h']\n",
    "result1=list(zip(range1, list1))\n",
    "print(result1)"
   ]
  },
  {
   "cell_type": "markdown",
   "id": "a61053a1",
   "metadata": {},
   "source": [
    "## 3. using sorted function, sort the lst in ascending order."
   ]
  },
  {
   "cell_type": "code",
   "execution_count": 28,
   "id": "85b674e4",
   "metadata": {},
   "outputs": [
    {
     "name": "stdout",
     "output_type": "stream",
     "text": [
      "[-2, 1, 5, 20, 23, 45, 89, 456, 478, 1158]\n"
     ]
    }
   ],
   "source": [
    "list2=[23, 45, 1, -2, 456, 478, 1158, 89, 20, 5]\n",
    "list2=sorted(list2)\n",
    "print(list2)"
   ]
  },
  {
   "cell_type": "markdown",
   "id": "baf3a2eb",
   "metadata": {},
   "source": [
    "## 4.Write a program using filter function, filter the even numbers so that only odd numbers are passed to the new list."
   ]
  },
  {
   "cell_type": "code",
   "execution_count": 31,
   "id": "a404499c",
   "metadata": {},
   "outputs": [
    {
     "name": "stdout",
     "output_type": "stream",
     "text": [
      "[1, 3, 5, 15, 17, 19, 45, 67, 103]\n"
     ]
    }
   ],
   "source": [
    "def validate(var):\n",
    "    if var%2!=0:\n",
    "        return True\n",
    "    else:\n",
    "        return False\n",
    "list1=[1,2,3,4,5,6,15,17,19,22,45,67,103]\n",
    "filtered=list(filter(validate, list1))\n",
    "print(filtered)"
   ]
  }
 ],
 "metadata": {
  "kernelspec": {
   "display_name": "Python 3",
   "language": "python",
   "name": "python3"
  },
  "language_info": {
   "codemirror_mode": {
    "name": "ipython",
    "version": 3
   },
   "file_extension": ".py",
   "mimetype": "text/x-python",
   "name": "python",
   "nbconvert_exporter": "python",
   "pygments_lexer": "ipython3",
   "version": "3.8.8"
  }
 },
 "nbformat": 4,
 "nbformat_minor": 5
}
