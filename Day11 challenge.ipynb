{
 "cells": [
  {
   "cell_type": "markdown",
   "id": "c008e8f1",
   "metadata": {},
   "source": [
    "## Day 11 challenge"
   ]
  },
  {
   "cell_type": "markdown",
   "id": "ff283454",
   "metadata": {},
   "source": [
    "# MODULES"
   ]
  },
  {
   "cell_type": "markdown",
   "id": "7a721250",
   "metadata": {},
   "source": [
    "## 1. Create a python module with list and import the module in another .py file and change the value in list"
   ]
  },
  {
   "cell_type": "code",
   "execution_count": 1,
   "id": "c24dd6a8",
   "metadata": {},
   "outputs": [
    {
     "name": "stdout",
     "output_type": "stream",
     "text": [
      "Let's say hello to everyone!\n",
      "hello kamal1\n",
      "hello sriram2\n",
      "hello trump3\n"
     ]
    }
   ],
   "source": [
    "import Day11_external as external\n",
    "external.ext_func(external.list1)"
   ]
  },
  {
   "cell_type": "code",
   "execution_count": 2,
   "id": "446ddb87",
   "metadata": {},
   "outputs": [
    {
     "name": "stdout",
     "output_type": "stream",
     "text": [
      "Let's say hello to everyone!\n",
      "hello Kamalakannan\n",
      "hello sriram2\n",
      "hello trump3\n"
     ]
    }
   ],
   "source": [
    "external.list1[0]='Kamalakannan'\n",
    "external.ext_func(external.list1)"
   ]
  },
  {
   "cell_type": "code",
   "execution_count": 12,
   "id": "8c676bf3",
   "metadata": {},
   "outputs": [
    {
     "name": "stdout",
     "output_type": "stream",
     "text": [
      "Let's say hello to everyone!\n",
      "hello MGR\n",
      "hello jayalalitha\n",
      "hello karunanithi\n",
      "hello kamarajar\n"
     ]
    }
   ],
   "source": [
    "list2=[\"MGR\", \"jayalalitha\", \"karunanithi\", \"kamarajar\"]\n",
    "external.ext_func(list2)"
   ]
  },
  {
   "cell_type": "markdown",
   "id": "f8697c59",
   "metadata": {},
   "source": [
    "## 2. Install pandas package (try to import the package in a python file)"
   ]
  },
  {
   "cell_type": "code",
   "execution_count": 13,
   "id": "00969af8",
   "metadata": {},
   "outputs": [
    {
     "name": "stdout",
     "output_type": "stream",
     "text": [
      "Requirement already satisfied: pandas in d:\\anaconda1\\lib\\site-packages (1.2.4)\n",
      "Requirement already satisfied: python-dateutil>=2.7.3 in d:\\anaconda1\\lib\\site-packages (from pandas) (2.8.1)\n",
      "Requirement already satisfied: numpy>=1.16.5 in d:\\anaconda1\\lib\\site-packages (from pandas) (1.20.1)\n",
      "Requirement already satisfied: pytz>=2017.3 in d:\\anaconda1\\lib\\site-packages (from pandas) (2021.1)Note: you may need to restart the kernel to use updated packages.\n",
      "Requirement already satisfied: six>=1.5 in d:\\anaconda1\\lib\\site-packages (from python-dateutil>=2.7.3->pandas) (1.15.0)\n",
      "\n"
     ]
    }
   ],
   "source": [
    "pip install pandas"
   ]
  },
  {
   "cell_type": "markdown",
   "id": "65bedc27",
   "metadata": {},
   "source": [
    "## 3. Import a module that picks random number and write a program to fetch a random number from 1 to 100 on every run"
   ]
  },
  {
   "cell_type": "code",
   "execution_count": 14,
   "id": "41ca3f8c",
   "metadata": {},
   "outputs": [
    {
     "data": {
      "text/plain": [
       "25"
      ]
     },
     "execution_count": 14,
     "metadata": {},
     "output_type": "execute_result"
    }
   ],
   "source": [
    "import numpy as py\n",
    "py.random.randint(low=1, high=100)"
   ]
  },
  {
   "cell_type": "code",
   "execution_count": 15,
   "id": "ef215d76",
   "metadata": {},
   "outputs": [
    {
     "data": {
      "text/plain": [
       "80"
      ]
     },
     "execution_count": 15,
     "metadata": {},
     "output_type": "execute_result"
    }
   ],
   "source": [
    "py.random.randint(low=1, high=100)"
   ]
  },
  {
   "cell_type": "code",
   "execution_count": 16,
   "id": "34612691",
   "metadata": {},
   "outputs": [
    {
     "data": {
      "text/plain": [
       "array([13, 84, 20, 88, 29, 30, 82, 55, 67, 98])"
      ]
     },
     "execution_count": 16,
     "metadata": {},
     "output_type": "execute_result"
    }
   ],
   "source": [
    "py.random.randint(low=1, high=100, size=10)"
   ]
  },
  {
   "cell_type": "markdown",
   "id": "4290816d",
   "metadata": {},
   "source": [
    "## 4. Import sys package and find the python path"
   ]
  },
  {
   "cell_type": "code",
   "execution_count": 19,
   "id": "b86c216c",
   "metadata": {},
   "outputs": [
    {
     "data": {
      "text/plain": [
       "9223372036854775807"
      ]
     },
     "execution_count": 19,
     "metadata": {},
     "output_type": "execute_result"
    }
   ],
   "source": [
    "import sys\n",
    "sys.maxsize"
   ]
  },
  {
   "cell_type": "code",
   "execution_count": 20,
   "id": "21b0fc5a",
   "metadata": {},
   "outputs": [
    {
     "data": {
      "text/plain": [
       "['C:\\\\Users\\\\ELCOT-Lenovo\\\\Desktop\\\\kamal_file',\n",
       " 'D:\\\\anaconda1\\\\python38.zip',\n",
       " 'D:\\\\anaconda1\\\\DLLs',\n",
       " 'D:\\\\anaconda1\\\\lib',\n",
       " 'D:\\\\anaconda1',\n",
       " '',\n",
       " 'D:\\\\anaconda1\\\\lib\\\\site-packages',\n",
       " 'D:\\\\anaconda1\\\\lib\\\\site-packages\\\\locket-0.2.1-py3.8.egg',\n",
       " 'D:\\\\anaconda1\\\\lib\\\\site-packages\\\\win32',\n",
       " 'D:\\\\anaconda1\\\\lib\\\\site-packages\\\\win32\\\\lib',\n",
       " 'D:\\\\anaconda1\\\\lib\\\\site-packages\\\\Pythonwin',\n",
       " 'D:\\\\anaconda1\\\\lib\\\\site-packages\\\\IPython\\\\extensions',\n",
       " 'C:\\\\Users\\\\ELCOT-Lenovo\\\\.ipython']"
      ]
     },
     "execution_count": 20,
     "metadata": {},
     "output_type": "execute_result"
    }
   ],
   "source": [
    "sys.path"
   ]
  },
  {
   "cell_type": "code",
   "execution_count": 21,
   "id": "ebd3d628",
   "metadata": {},
   "outputs": [
    {
     "data": {
      "text/plain": [
       "'3.8.8 (default, Apr 13 2021, 15:08:03) [MSC v.1916 64 bit (AMD64)]'"
      ]
     },
     "execution_count": 21,
     "metadata": {},
     "output_type": "execute_result"
    }
   ],
   "source": [
    "sys.version"
   ]
  },
  {
   "cell_type": "code",
   "execution_count": 27,
   "id": "53c76d2f",
   "metadata": {},
   "outputs": [
    {
     "data": {
      "text/plain": [
       "'-f'"
      ]
     },
     "execution_count": 27,
     "metadata": {},
     "output_type": "execute_result"
    }
   ],
   "source": [
    "sys.argv[1]"
   ]
  },
  {
   "cell_type": "markdown",
   "id": "4a6531ea",
   "metadata": {},
   "source": [
    "## 5. Try to install a package and uninstall a package using pip"
   ]
  },
  {
   "cell_type": "code",
   "execution_count": 3,
   "id": "34448a29",
   "metadata": {},
   "outputs": [
    {
     "name": "stdout",
     "output_type": "stream",
     "text": [
      "Requirement already satisfied: django in d:\\anaconda1\\lib\\site-packages (3.2.4)\n",
      "Requirement already satisfied: pytz in d:\\anaconda1\\lib\\site-packages (from django) (2021.1)\n",
      "Requirement already satisfied: asgiref<4,>=3.3.2 in d:\\anaconda1\\lib\\site-packages (from django) (3.3.4)\n",
      "Requirement already satisfied: sqlparse>=0.2.2 in d:\\anaconda1\\lib\\site-packages (from django) (0.4.1)\n",
      "Note: you may need to restart the kernel to use updated packages.\n"
     ]
    }
   ],
   "source": [
    "pip install django"
   ]
  },
  {
   "cell_type": "code",
   "execution_count": null,
   "id": "c3f5f1a2",
   "metadata": {},
   "outputs": [],
   "source": [
    "pip uninstall django"
   ]
  },
  {
   "cell_type": "code",
   "execution_count": null,
   "id": "00398ea7",
   "metadata": {},
   "outputs": [],
   "source": []
  }
 ],
 "metadata": {
  "kernelspec": {
   "display_name": "Python 3",
   "language": "python",
   "name": "python3"
  },
  "language_info": {
   "codemirror_mode": {
    "name": "ipython",
    "version": 3
   },
   "file_extension": ".py",
   "mimetype": "text/x-python",
   "name": "python",
   "nbconvert_exporter": "python",
   "pygments_lexer": "ipython3",
   "version": "3.8.8"
  }
 },
 "nbformat": 4,
 "nbformat_minor": 5
}
