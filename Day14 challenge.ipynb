{
 "cells": [
  {
   "cell_type": "markdown",
   "id": "b5026cc5",
   "metadata": {},
   "source": [
    "## Day14 challenge"
   ]
  },
  {
   "cell_type": "markdown",
   "id": "66bb57e8",
   "metadata": {},
   "source": [
    "# Try and Catch"
   ]
  },
  {
   "cell_type": "markdown",
   "id": "ca6a28ef",
   "metadata": {},
   "source": [
    "## List down all the error types and check all the errors using a python program for all errors"
   ]
  },
  {
   "cell_type": "markdown",
   "id": "bd6ba373",
   "metadata": {},
   "source": [
    "## Name error, Type error, Syntax error, Index error, Module not found error, Key error, Import error, Value error, Zero division error"
   ]
  },
  {
   "cell_type": "markdown",
   "id": "0f013f5f",
   "metadata": {},
   "source": [
    "## 1.Name error"
   ]
  },
  {
   "cell_type": "code",
   "execution_count": 18,
   "id": "16cf0b44",
   "metadata": {},
   "outputs": [
    {
     "ename": "NameError",
     "evalue": "name 'number' is not defined",
     "output_type": "error",
     "traceback": [
      "\u001b[1;31m---------------------------------------------------------------------------\u001b[0m",
      "\u001b[1;31mNameError\u001b[0m                                 Traceback (most recent call last)",
      "\u001b[1;32m<ipython-input-18-faa3bf970207>\u001b[0m in \u001b[0;36m<module>\u001b[1;34m\u001b[0m\n\u001b[0;32m      1\u001b[0m \u001b[0mnum\u001b[0m\u001b[1;33m=\u001b[0m\u001b[1;36m125\u001b[0m\u001b[1;33m\u001b[0m\u001b[1;33m\u001b[0m\u001b[0m\n\u001b[1;32m----> 2\u001b[1;33m \u001b[0mprint\u001b[0m\u001b[1;33m(\u001b[0m\u001b[0mnumber\u001b[0m\u001b[1;33m)\u001b[0m\u001b[1;33m\u001b[0m\u001b[1;33m\u001b[0m\u001b[0m\n\u001b[0m",
      "\u001b[1;31mNameError\u001b[0m: name 'number' is not defined"
     ]
    }
   ],
   "source": [
    "num=125\n",
    "print(number)"
   ]
  },
  {
   "cell_type": "markdown",
   "id": "13385bc2",
   "metadata": {},
   "source": [
    "## 2.Type error"
   ]
  },
  {
   "cell_type": "code",
   "execution_count": 19,
   "id": "d02788b8",
   "metadata": {},
   "outputs": [
    {
     "ename": "TypeError",
     "evalue": "can only concatenate str (not \"int\") to str",
     "output_type": "error",
     "traceback": [
      "\u001b[1;31m---------------------------------------------------------------------------\u001b[0m",
      "\u001b[1;31mTypeError\u001b[0m                                 Traceback (most recent call last)",
      "\u001b[1;32m<ipython-input-19-e9180af3d723>\u001b[0m in \u001b[0;36m<module>\u001b[1;34m\u001b[0m\n\u001b[0;32m      1\u001b[0m \u001b[0mnum1\u001b[0m\u001b[1;33m=\u001b[0m\u001b[1;34m'150'\u001b[0m\u001b[1;33m\u001b[0m\u001b[1;33m\u001b[0m\u001b[0m\n\u001b[1;32m----> 2\u001b[1;33m \u001b[0mnum1\u001b[0m\u001b[1;33m+=\u001b[0m\u001b[1;36m150\u001b[0m\u001b[1;33m\u001b[0m\u001b[1;33m\u001b[0m\u001b[0m\n\u001b[0m\u001b[0;32m      3\u001b[0m \u001b[0mprint\u001b[0m\u001b[1;33m(\u001b[0m\u001b[0mnum1\u001b[0m\u001b[1;33m)\u001b[0m\u001b[1;33m\u001b[0m\u001b[1;33m\u001b[0m\u001b[0m\n",
      "\u001b[1;31mTypeError\u001b[0m: can only concatenate str (not \"int\") to str"
     ]
    }
   ],
   "source": [
    "num1='150'\n",
    "num1+=150\n",
    "print(num1)"
   ]
  },
  {
   "cell_type": "code",
   "execution_count": 20,
   "id": "e3cc887d",
   "metadata": {},
   "outputs": [
    {
     "ename": "TypeError",
     "evalue": "'list' object cannot be interpreted as an integer",
     "output_type": "error",
     "traceback": [
      "\u001b[1;31m---------------------------------------------------------------------------\u001b[0m",
      "\u001b[1;31mTypeError\u001b[0m                                 Traceback (most recent call last)",
      "\u001b[1;32m<ipython-input-20-e60735acd2b9>\u001b[0m in \u001b[0;36m<module>\u001b[1;34m\u001b[0m\n\u001b[0;32m      1\u001b[0m \u001b[0ml\u001b[0m\u001b[1;33m=\u001b[0m\u001b[1;33m[\u001b[0m\u001b[1;36m1\u001b[0m\u001b[1;33m,\u001b[0m\u001b[1;36m2\u001b[0m\u001b[1;33m,\u001b[0m\u001b[1;36m3\u001b[0m\u001b[1;33m,\u001b[0m\u001b[1;36m4\u001b[0m\u001b[1;33m]\u001b[0m\u001b[1;33m\u001b[0m\u001b[1;33m\u001b[0m\u001b[0m\n\u001b[1;32m----> 2\u001b[1;33m \u001b[1;32mfor\u001b[0m \u001b[0mi\u001b[0m \u001b[1;32min\u001b[0m \u001b[0mrange\u001b[0m\u001b[1;33m(\u001b[0m\u001b[1;36m0\u001b[0m\u001b[1;33m,\u001b[0m\u001b[0ml\u001b[0m\u001b[1;33m)\u001b[0m\u001b[1;33m:\u001b[0m\u001b[1;33m\u001b[0m\u001b[1;33m\u001b[0m\u001b[0m\n\u001b[0m\u001b[0;32m      3\u001b[0m     \u001b[0mprint\u001b[0m\u001b[1;33m(\u001b[0m\u001b[0mi\u001b[0m\u001b[1;33m)\u001b[0m\u001b[1;33m\u001b[0m\u001b[1;33m\u001b[0m\u001b[0m\n",
      "\u001b[1;31mTypeError\u001b[0m: 'list' object cannot be interpreted as an integer"
     ]
    }
   ],
   "source": [
    "l=[1,2,3,4]\n",
    "for i in range(0,l):\n",
    "    print(i)"
   ]
  },
  {
   "cell_type": "markdown",
   "id": "f62a3b9a",
   "metadata": {},
   "source": [
    "## 3.Syntax error"
   ]
  },
  {
   "cell_type": "code",
   "execution_count": 21,
   "id": "2c0b5f3a",
   "metadata": {},
   "outputs": [
    {
     "ename": "SyntaxError",
     "evalue": "invalid syntax (<ipython-input-21-ef10de9a86d0>, line 1)",
     "output_type": "error",
     "traceback": [
      "\u001b[1;36m  File \u001b[1;32m\"<ipython-input-21-ef10de9a86d0>\"\u001b[1;36m, line \u001b[1;32m1\u001b[0m\n\u001b[1;33m    for i in range(1, 10)\u001b[0m\n\u001b[1;37m                         ^\u001b[0m\n\u001b[1;31mSyntaxError\u001b[0m\u001b[1;31m:\u001b[0m invalid syntax\n"
     ]
    }
   ],
   "source": [
    "for i in range(1, 10)\n",
    "print(i)"
   ]
  },
  {
   "cell_type": "code",
   "execution_count": 24,
   "id": "17735449",
   "metadata": {},
   "outputs": [
    {
     "ename": "SyntaxError",
     "evalue": "invalid syntax (<ipython-input-24-6f7ae8afe00c>, line 1)",
     "output_type": "error",
     "traceback": [
      "\u001b[1;36m  File \u001b[1;32m\"<ipython-input-24-6f7ae8afe00c>\"\u001b[1;36m, line \u001b[1;32m1\u001b[0m\n\u001b[1;33m    for='kamal'\u001b[0m\n\u001b[1;37m       ^\u001b[0m\n\u001b[1;31mSyntaxError\u001b[0m\u001b[1;31m:\u001b[0m invalid syntax\n"
     ]
    }
   ],
   "source": [
    "for='kamal'\n",
    "print(for)  #if we use keyword as variable it also shows syntax error"
   ]
  },
  {
   "cell_type": "markdown",
   "id": "c6fa6513",
   "metadata": {},
   "source": [
    "## 4.Index error"
   ]
  },
  {
   "cell_type": "code",
   "execution_count": 26,
   "id": "05e3cc12",
   "metadata": {},
   "outputs": [
    {
     "name": "stdout",
     "output_type": "stream",
     "text": [
      "20\n",
      "30\n",
      "40\n",
      "50\n"
     ]
    },
    {
     "ename": "IndexError",
     "evalue": "list index out of range",
     "output_type": "error",
     "traceback": [
      "\u001b[1;31m---------------------------------------------------------------------------\u001b[0m",
      "\u001b[1;31mIndexError\u001b[0m                                Traceback (most recent call last)",
      "\u001b[1;32m<ipython-input-26-a0dd3a18db60>\u001b[0m in \u001b[0;36m<module>\u001b[1;34m\u001b[0m\n\u001b[0;32m      1\u001b[0m \u001b[0mlist1\u001b[0m\u001b[1;33m=\u001b[0m\u001b[1;33m[\u001b[0m\u001b[1;36m10\u001b[0m\u001b[1;33m,\u001b[0m\u001b[1;36m20\u001b[0m\u001b[1;33m,\u001b[0m\u001b[1;36m30\u001b[0m\u001b[1;33m,\u001b[0m\u001b[1;36m40\u001b[0m\u001b[1;33m,\u001b[0m\u001b[1;36m50\u001b[0m\u001b[1;33m]\u001b[0m\u001b[1;33m\u001b[0m\u001b[1;33m\u001b[0m\u001b[0m\n\u001b[0;32m      2\u001b[0m \u001b[1;32mfor\u001b[0m \u001b[0mi\u001b[0m \u001b[1;32min\u001b[0m \u001b[0mrange\u001b[0m\u001b[1;33m(\u001b[0m\u001b[0mlen\u001b[0m\u001b[1;33m(\u001b[0m\u001b[0mlist1\u001b[0m\u001b[1;33m)\u001b[0m\u001b[1;33m)\u001b[0m\u001b[1;33m:\u001b[0m\u001b[1;33m\u001b[0m\u001b[1;33m\u001b[0m\u001b[0m\n\u001b[1;32m----> 3\u001b[1;33m     \u001b[0mprint\u001b[0m\u001b[1;33m(\u001b[0m\u001b[0mlist1\u001b[0m\u001b[1;33m[\u001b[0m\u001b[0mi\u001b[0m\u001b[1;33m+\u001b[0m\u001b[1;36m1\u001b[0m\u001b[1;33m]\u001b[0m\u001b[1;33m)\u001b[0m\u001b[1;33m\u001b[0m\u001b[1;33m\u001b[0m\u001b[0m\n\u001b[0m",
      "\u001b[1;31mIndexError\u001b[0m: list index out of range"
     ]
    }
   ],
   "source": [
    "list1=[10,20,30,40,50]\n",
    "for i in range(len(list1)):\n",
    "    print(list1[i+1])"
   ]
  },
  {
   "cell_type": "markdown",
   "id": "e55105be",
   "metadata": {},
   "source": [
    "## 5.Module not found error"
   ]
  },
  {
   "cell_type": "code",
   "execution_count": 27,
   "id": "633b784f",
   "metadata": {},
   "outputs": [
    {
     "ename": "ModuleNotFoundError",
     "evalue": "No module named 'kamalabc'",
     "output_type": "error",
     "traceback": [
      "\u001b[1;31m---------------------------------------------------------------------------\u001b[0m",
      "\u001b[1;31mModuleNotFoundError\u001b[0m                       Traceback (most recent call last)",
      "\u001b[1;32m<ipython-input-27-6378934a7f00>\u001b[0m in \u001b[0;36m<module>\u001b[1;34m\u001b[0m\n\u001b[1;32m----> 1\u001b[1;33m \u001b[1;32mimport\u001b[0m \u001b[0mkamalabc\u001b[0m\u001b[1;33m\u001b[0m\u001b[1;33m\u001b[0m\u001b[0m\n\u001b[0m",
      "\u001b[1;31mModuleNotFoundError\u001b[0m: No module named 'kamalabc'"
     ]
    }
   ],
   "source": [
    "import kamalabc"
   ]
  },
  {
   "cell_type": "markdown",
   "id": "dca9d6bf",
   "metadata": {},
   "source": [
    "## 6.Key error"
   ]
  },
  {
   "cell_type": "code",
   "execution_count": 31,
   "id": "1d679f65",
   "metadata": {},
   "outputs": [
    {
     "ename": "KeyError",
     "evalue": "'mothername'",
     "output_type": "error",
     "traceback": [
      "\u001b[1;31m---------------------------------------------------------------------------\u001b[0m",
      "\u001b[1;31mKeyError\u001b[0m                                  Traceback (most recent call last)",
      "\u001b[1;32m<ipython-input-31-d585f860355c>\u001b[0m in \u001b[0;36m<module>\u001b[1;34m\u001b[0m\n\u001b[0;32m      1\u001b[0m \u001b[0mdict1\u001b[0m\u001b[1;33m=\u001b[0m\u001b[1;33m{\u001b[0m\u001b[1;34m'name'\u001b[0m\u001b[1;33m:\u001b[0m\u001b[1;34m\"kamal\"\u001b[0m\u001b[1;33m,\u001b[0m \u001b[1;34m'age'\u001b[0m\u001b[1;33m:\u001b[0m\u001b[1;36m20\u001b[0m\u001b[1;33m,\u001b[0m \u001b[1;34m'height'\u001b[0m\u001b[1;33m:\u001b[0m\u001b[1;36m175.00\u001b[0m\u001b[1;33m}\u001b[0m\u001b[1;33m\u001b[0m\u001b[1;33m\u001b[0m\u001b[0m\n\u001b[1;32m----> 2\u001b[1;33m \u001b[0mprint\u001b[0m\u001b[1;33m(\u001b[0m\u001b[0mdict1\u001b[0m\u001b[1;33m[\u001b[0m\u001b[1;34m'mothername'\u001b[0m\u001b[1;33m]\u001b[0m\u001b[1;33m)\u001b[0m\u001b[1;33m\u001b[0m\u001b[1;33m\u001b[0m\u001b[0m\n\u001b[0m",
      "\u001b[1;31mKeyError\u001b[0m: 'mothername'"
     ]
    }
   ],
   "source": [
    "dict1={'name':\"kamal\", 'age':20, 'height':175.00}\n",
    "print(dict1['mothername'])"
   ]
  },
  {
   "cell_type": "markdown",
   "id": "8f9867fb",
   "metadata": {},
   "source": [
    "## 7.Import error"
   ]
  },
  {
   "cell_type": "code",
   "execution_count": 32,
   "id": "de0c4d26",
   "metadata": {},
   "outputs": [
    {
     "ename": "ImportError",
     "evalue": "cannot import name 'floordivision' from 'math' (unknown location)",
     "output_type": "error",
     "traceback": [
      "\u001b[1;31m---------------------------------------------------------------------------\u001b[0m",
      "\u001b[1;31mImportError\u001b[0m                               Traceback (most recent call last)",
      "\u001b[1;32m<ipython-input-32-528be8c0a763>\u001b[0m in \u001b[0;36m<module>\u001b[1;34m\u001b[0m\n\u001b[1;32m----> 1\u001b[1;33m \u001b[1;32mfrom\u001b[0m \u001b[0mmath\u001b[0m \u001b[1;32mimport\u001b[0m \u001b[0mfloordivision\u001b[0m\u001b[1;33m\u001b[0m\u001b[1;33m\u001b[0m\u001b[0m\n\u001b[0m",
      "\u001b[1;31mImportError\u001b[0m: cannot import name 'floordivision' from 'math' (unknown location)"
     ]
    }
   ],
   "source": [
    "from math import floordivision"
   ]
  },
  {
   "cell_type": "markdown",
   "id": "5c67eb3b",
   "metadata": {},
   "source": [
    "## 8.Value error"
   ]
  },
  {
   "cell_type": "code",
   "execution_count": 35,
   "id": "65160164",
   "metadata": {},
   "outputs": [
    {
     "ename": "ValueError",
     "evalue": "invalid literal for int() with base 10: 'abcd'",
     "output_type": "error",
     "traceback": [
      "\u001b[1;31m---------------------------------------------------------------------------\u001b[0m",
      "\u001b[1;31mValueError\u001b[0m                                Traceback (most recent call last)",
      "\u001b[1;32m<ipython-input-35-b6487b2c3886>\u001b[0m in \u001b[0;36m<module>\u001b[1;34m\u001b[0m\n\u001b[1;32m----> 1\u001b[1;33m \u001b[0mint\u001b[0m\u001b[1;33m(\u001b[0m\u001b[1;34m'abcd'\u001b[0m\u001b[1;33m)\u001b[0m\u001b[1;33m\u001b[0m\u001b[1;33m\u001b[0m\u001b[0m\n\u001b[0m",
      "\u001b[1;31mValueError\u001b[0m: invalid literal for int() with base 10: 'abcd'"
     ]
    }
   ],
   "source": [
    "int('abcd')"
   ]
  },
  {
   "cell_type": "markdown",
   "id": "1fc913cc",
   "metadata": {},
   "source": [
    "## 9. Zero division error"
   ]
  },
  {
   "cell_type": "code",
   "execution_count": 36,
   "id": "24be44ff",
   "metadata": {},
   "outputs": [
    {
     "ename": "ZeroDivisionError",
     "evalue": "division by zero",
     "output_type": "error",
     "traceback": [
      "\u001b[1;31m---------------------------------------------------------------------------\u001b[0m",
      "\u001b[1;31mZeroDivisionError\u001b[0m                         Traceback (most recent call last)",
      "\u001b[1;32m<ipython-input-36-b4b3710602be>\u001b[0m in \u001b[0;36m<module>\u001b[1;34m\u001b[0m\n\u001b[1;32m----> 1\u001b[1;33m \u001b[1;36m2500\u001b[0m\u001b[1;33m/\u001b[0m\u001b[1;36m0\u001b[0m\u001b[1;33m\u001b[0m\u001b[1;33m\u001b[0m\u001b[0m\n\u001b[0m",
      "\u001b[1;31mZeroDivisionError\u001b[0m: division by zero"
     ]
    }
   ],
   "source": [
    "2500/0"
   ]
  },
  {
   "cell_type": "markdown",
   "id": "1e45efd7",
   "metadata": {},
   "source": [
    "## Design a simple calculator app with try and except for all cases"
   ]
  },
  {
   "cell_type": "code",
   "execution_count": 44,
   "id": "f0601cb3",
   "metadata": {},
   "outputs": [],
   "source": [
    "def calculator():\n",
    "    try:\n",
    "        print(\"+, -, *, /, //, %, **\")\n",
    "        operator=input(\"Select any one operators\")\n",
    "        print(\"Enter two numbers:\")\n",
    "        num1=int(input())\n",
    "        num2=int(input())\n",
    "        if operator=='+':\n",
    "            print(num1+num2)\n",
    "        elif operator=='-':\n",
    "            print(num1-num2)\n",
    "        elif operator=='*':\n",
    "            print(num1*num2)\n",
    "        elif operator=='/':\n",
    "            print(num1/num2)\n",
    "        elif operator=='//':\n",
    "            print(num1//num2)\n",
    "        elif operator=='%':\n",
    "            print(num1%num2)\n",
    "        elif operator=='**':\n",
    "            print(num1**num2)\n",
    "        else:\n",
    "            print(\"Invalid input\")\n",
    "    except Exception as e:\n",
    "        print(e)\n",
    "        "
   ]
  },
  {
   "cell_type": "code",
   "execution_count": 45,
   "id": "0f3f5db5",
   "metadata": {},
   "outputs": [
    {
     "name": "stdout",
     "output_type": "stream",
     "text": [
      "+, -, *, /, //, %, **\n",
      "Select any one operators**\n",
      "Enter two numbers:\n",
      "25\n",
      "2\n",
      "625\n"
     ]
    }
   ],
   "source": [
    "calculator()"
   ]
  },
  {
   "cell_type": "code",
   "execution_count": 46,
   "id": "938d2823",
   "metadata": {},
   "outputs": [
    {
     "name": "stdout",
     "output_type": "stream",
     "text": [
      "+, -, *, /, //, %, **\n",
      "Select any one operators+\n",
      "Enter two numbers:\n",
      "250\n",
      "26k\n",
      "invalid literal for int() with base 10: '26k'\n"
     ]
    }
   ],
   "source": [
    "calculator()"
   ]
  },
  {
   "cell_type": "markdown",
   "id": "796f7734",
   "metadata": {},
   "source": [
    "## Print one message if the try block raises a Name error and another for other errors"
   ]
  },
  {
   "cell_type": "code",
   "execution_count": 59,
   "id": "ae4fe70a",
   "metadata": {},
   "outputs": [
    {
     "name": "stdout",
     "output_type": "stream",
     "text": [
      "Traceback (most recent call last):\n",
      "  File \"<ipython-input-59-f453df5da6f6>\", line 5, in <module>\n",
      "    print(number)\n",
      "NameError: name 'number' is not defined\n",
      "\n"
     ]
    }
   ],
   "source": [
    "import traceback\n",
    "try:\n",
    "    num=250\n",
    "    if num==250:\n",
    "        print(number)\n",
    "        raise NameError(\"Name error\")\n",
    "    if num>0:\n",
    "        raise ValueError(\"Value error\")   \n",
    "except NameError as ne:\n",
    "    ne=traceback.format_exc()\n",
    "    print(ne)\n",
    "except ValueError as ve:\n",
    "    print(ve)"
   ]
  },
  {
   "cell_type": "markdown",
   "id": "b72ba96e",
   "metadata": {},
   "source": [
    "## When try-except scenario is not required?"
   ]
  },
  {
   "cell_type": "markdown",
   "id": "7f83a9c8",
   "metadata": {},
   "source": [
    "### Python Exceptions are error scenarios that alter the normal execution flow of the program the process of the code inside the else block is executed if there are no exceptions raised"
   ]
  },
  {
   "cell_type": "markdown",
   "id": "179c6e85",
   "metadata": {},
   "source": [
    "## Try getting an input inside the try catch block"
   ]
  },
  {
   "cell_type": "code",
   "execution_count": 60,
   "id": "2e2ee121",
   "metadata": {},
   "outputs": [
    {
     "name": "stdout",
     "output_type": "stream",
     "text": [
      "Enter your height:hundred and seventy five\n",
      "You have entered an invalid input\n"
     ]
    }
   ],
   "source": [
    "try:\n",
    "    height=int(input(\"Enter your height:\"))\n",
    "except:\n",
    "    print(\"You have entered an invalid input\")"
   ]
  }
 ],
 "metadata": {
  "kernelspec": {
   "display_name": "Python 3",
   "language": "python",
   "name": "python3"
  },
  "language_info": {
   "codemirror_mode": {
    "name": "ipython",
    "version": 3
   },
   "file_extension": ".py",
   "mimetype": "text/x-python",
   "name": "python",
   "nbconvert_exporter": "python",
   "pygments_lexer": "ipython3",
   "version": "3.8.8"
  }
 },
 "nbformat": 4,
 "nbformat_minor": 5
}
