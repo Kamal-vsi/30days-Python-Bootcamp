{
 "cells": [
  {
   "cell_type": "markdown",
   "id": "b9c1af75",
   "metadata": {},
   "source": [
    "## Day16 challenge"
   ]
  },
  {
   "cell_type": "markdown",
   "id": "9f5154dd",
   "metadata": {},
   "source": [
    "# Lambda functions \n",
    "## or Anonymous functions"
   ]
  },
  {
   "cell_type": "markdown",
   "id": "0270b731",
   "metadata": {},
   "source": [
    "## 1. Create a lambda function that multiples argument x with argument y"
   ]
  },
  {
   "cell_type": "code",
   "execution_count": 30,
   "id": "6f6f15cc",
   "metadata": {},
   "outputs": [
    {
     "name": "stdout",
     "output_type": "stream",
     "text": [
      "Enter the value of x:30\n",
      "Enter the value of y:20\n",
      "600\n"
     ]
    }
   ],
   "source": [
    "x=int(input(\"Enter the value of x:\"))\n",
    "y=int(input(\"Enter the value of y:\"))\n",
    "a=lambda x, y : x*y\n",
    "print(a(x, y))"
   ]
  },
  {
   "cell_type": "markdown",
   "id": "686c188c",
   "metadata": {},
   "source": [
    "## 2. Write a python program to create Fibonacci series to n using lambda"
   ]
  },
  {
   "cell_type": "code",
   "execution_count": 6,
   "id": "296b9ce1",
   "metadata": {},
   "outputs": [
    {
     "name": "stdout",
     "output_type": "stream",
     "text": [
      "enter the value of n:15\n",
      "[0, 1, 1, 2, 3, 5, 8, 13, 21, 34, 55, 89, 144, 233, 377]\n"
     ]
    }
   ],
   "source": [
    "from functools import reduce\n",
    "fib = lambda n: reduce(lambda x, _: x+[x[-1]+x[-2]], range(n-2), [0, 1])\n",
    "n=int(input(\"enter the value of n:\"))\n",
    "print(fib(n))"
   ]
  },
  {
   "cell_type": "markdown",
   "id": "117d5d94",
   "metadata": {},
   "source": [
    "## 3.Write a python program that multiply each number of given list with a given number"
   ]
  },
  {
   "cell_type": "code",
   "execution_count": 1,
   "id": "213ff7c1",
   "metadata": {},
   "outputs": [
    {
     "name": "stdout",
     "output_type": "stream",
     "text": [
      "Enter the number to multiply:3\n",
      "[30, 36, 42, 48, 54, 60]\n"
     ]
    }
   ],
   "source": [
    "list1=[10, 12, 14, 16, 18, 20]\n",
    "n=int(input(\"Enter the number to multiply:\"))\n",
    "list2=list(map(lambda x:x*n, list1))\n",
    "print(list2)"
   ]
  },
  {
   "cell_type": "markdown",
   "id": "d5a6426b",
   "metadata": {},
   "source": [
    "## 4.Write a python program to find numbers divided by 9 from a list of numbers"
   ]
  },
  {
   "cell_type": "code",
   "execution_count": 3,
   "id": "7cfd030c",
   "metadata": {},
   "outputs": [
    {
     "name": "stdout",
     "output_type": "stream",
     "text": [
      "[9, 18, 81, 72, 99]\n"
     ]
    }
   ],
   "source": [
    "list1=[9, 16, 18, 35, 81, 72, 99, 100]\n",
    "list2=list(filter(lambda x:(x%9==0), list1))\n",
    "print(list2)"
   ]
  },
  {
   "cell_type": "markdown",
   "id": "c69cd9eb",
   "metadata": {},
   "source": [
    "## 5.Write a python program to count the even numbers in a given list of integers"
   ]
  },
  {
   "cell_type": "code",
   "execution_count": 9,
   "id": "81b4d990",
   "metadata": {},
   "outputs": [
    {
     "name": "stdout",
     "output_type": "stream",
     "text": [
      "count of even number in the given list is 5\n"
     ]
    }
   ],
   "source": [
    "list1=[1, 2, 3, 4, 5, 6, 7, 8, 9, 10, 11]\n",
    "list2=list(filter(lambda x:(x%2==0), list1))\n",
    "print(\"count of even number in the given list is\", len(list2))"
   ]
  }
 ],
 "metadata": {
  "kernelspec": {
   "display_name": "Python 3",
   "language": "python",
   "name": "python3"
  },
  "language_info": {
   "codemirror_mode": {
    "name": "ipython",
    "version": 3
   },
   "file_extension": ".py",
   "mimetype": "text/x-python",
   "name": "python",
   "nbconvert_exporter": "python",
   "pygments_lexer": "ipython3",
   "version": "3.8.8"
  }
 },
 "nbformat": 4,
 "nbformat_minor": 5
}
