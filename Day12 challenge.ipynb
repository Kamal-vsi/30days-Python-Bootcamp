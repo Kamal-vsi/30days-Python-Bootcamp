{
 "cells": [
  {
   "cell_type": "markdown",
   "id": "8124213f",
   "metadata": {},
   "source": [
    "## Day 12 challenge"
   ]
  },
  {
   "cell_type": "markdown",
   "id": "6a02d191",
   "metadata": {},
   "source": [
    "# FILE HANDLING"
   ]
  },
  {
   "cell_type": "markdown",
   "id": "aa85256f",
   "metadata": {},
   "source": [
    "## 1. create and open a file 30 days 30 hours operations"
   ]
  },
  {
   "cell_type": "code",
   "execution_count": 11,
   "id": "8f7c3090",
   "metadata": {},
   "outputs": [],
   "source": [
    "file1=open(\"30 days 30 hours operations.txt\", \"w\")"
   ]
  },
  {
   "cell_type": "markdown",
   "id": "2602be62",
   "metadata": {},
   "source": [
    "## 2. Write data in it have completed 10 days successfully"
   ]
  },
  {
   "cell_type": "code",
   "execution_count": 12,
   "id": "f3a17bbc",
   "metadata": {},
   "outputs": [],
   "source": [
    "file1.write(\"I have completed 10 days successfully\\n\")\n",
    "file1.close()"
   ]
  },
  {
   "cell_type": "markdown",
   "id": "f751baf8",
   "metadata": {},
   "source": [
    "## Read what I written in that file"
   ]
  },
  {
   "cell_type": "code",
   "execution_count": 13,
   "id": "2fb63052",
   "metadata": {},
   "outputs": [
    {
     "name": "stdout",
     "output_type": "stream",
     "text": [
      "I have completed 10 days successfully\n",
      "\n"
     ]
    }
   ],
   "source": [
    "file1=open(\"30 days 30 hours operations.txt\", \"r\")\n",
    "print(file1.read())\n",
    "file1.close()"
   ]
  },
  {
   "cell_type": "markdown",
   "id": "bbfe5df8",
   "metadata": {},
   "source": [
    "## 3. Append the data your name in to it"
   ]
  },
  {
   "cell_type": "code",
   "execution_count": 14,
   "id": "00f5b079",
   "metadata": {},
   "outputs": [],
   "source": [
    "file1=open(\"30 days 30 hours operations.txt\", \"a\")\n",
    "file1.write(\"Myself K. Kamalakannan\\n\")\n",
    "file1.close()"
   ]
  },
  {
   "cell_type": "markdown",
   "id": "e384392e",
   "metadata": {},
   "source": [
    "## Read what I append in to that file"
   ]
  },
  {
   "cell_type": "code",
   "execution_count": 16,
   "id": "e981fc8d",
   "metadata": {},
   "outputs": [
    {
     "name": "stdout",
     "output_type": "stream",
     "text": [
      "I have completed 10 days successfully\n",
      "Myself K. Kamalakannan\n",
      "\n"
     ]
    }
   ],
   "source": [
    "file1=open(\"30 days 30 hours operations.txt\", \"r\")\n",
    "print(file1.read())"
   ]
  },
  {
   "cell_type": "markdown",
   "id": "5d804639",
   "metadata": {},
   "source": [
    "## 4. Close the file"
   ]
  },
  {
   "cell_type": "code",
   "execution_count": 17,
   "id": "5e4d3e3a",
   "metadata": {},
   "outputs": [],
   "source": [
    "file1.close()"
   ]
  }
 ],
 "metadata": {
  "kernelspec": {
   "display_name": "Python 3",
   "language": "python",
   "name": "python3"
  },
  "language_info": {
   "codemirror_mode": {
    "name": "ipython",
    "version": 3
   },
   "file_extension": ".py",
   "mimetype": "text/x-python",
   "name": "python",
   "nbconvert_exporter": "python",
   "pygments_lexer": "ipython3",
   "version": "3.8.8"
  }
 },
 "nbformat": 4,
 "nbformat_minor": 5
}
