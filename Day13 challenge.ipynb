{
 "cells": [
  {
   "cell_type": "markdown",
   "id": "f3a71d65",
   "metadata": {},
   "source": [
    "## Day13 challenge"
   ]
  },
  {
   "cell_type": "markdown",
   "id": "79f0b932",
   "metadata": {},
   "source": [
    "# RegEX"
   ]
  },
  {
   "cell_type": "markdown",
   "id": "ae1fb102",
   "metadata": {},
   "source": [
    "## Write a python program for all the cases which can check a string contains only a certain set of characters\n",
    "## (In this case a-z, A-Z and 0-9)"
   ]
  },
  {
   "cell_type": "code",
   "execution_count": 1,
   "id": "caff0cf4",
   "metadata": {},
   "outputs": [],
   "source": [
    "import re"
   ]
  },
  {
   "cell_type": "code",
   "execution_count": 21,
   "id": "eea500e5",
   "metadata": {},
   "outputs": [
    {
     "name": "stdout",
     "output_type": "stream",
     "text": [
      "True\n",
      "False\n"
     ]
    }
   ],
   "source": [
    "def is_contain(string):\n",
    "    char1=re.compile(r'[^a-zA-Z0-9]')\n",
    "    string=char1.search(string)\n",
    "    return not bool(string)\n",
    "print(is_contain(\"65432hgfdsKMNBYU34\"))\n",
    "print(is_contain(\"43328**&^%$#@!\"))"
   ]
  },
  {
   "cell_type": "markdown",
   "id": "6cf9ae51",
   "metadata": {},
   "source": [
    "## Write a python program that matches a word containing 'ab'."
   ]
  },
  {
   "cell_type": "code",
   "execution_count": 43,
   "id": "bf899d81",
   "metadata": {},
   "outputs": [
    {
     "name": "stdout",
     "output_type": "stream",
     "text": [
      "not found a match\n",
      "found a match!\n"
     ]
    }
   ],
   "source": [
    "def word_match(word):\n",
    "    pattern='ab'\n",
    "    if re.search(pattern, word):\n",
    "        return 'found a match!'\n",
    "    else:\n",
    "        return 'not found a match'\n",
    "print(word_match(\"acdb\"))\n",
    "print(word_match(\"dsfab\"))"
   ]
  },
  {
   "cell_type": "markdown",
   "id": "9e41d017",
   "metadata": {},
   "source": [
    "## Write a python program to check for a number at the end of a word/sentence"
   ]
  },
  {
   "cell_type": "code",
   "execution_count": 25,
   "id": "bc6fb68d",
   "metadata": {},
   "outputs": [
    {
     "name": "stdout",
     "output_type": "stream",
     "text": [
      "True\n",
      "False\n",
      "True\n"
     ]
    }
   ],
   "source": [
    "def numAtEnd(string):\n",
    "    text=re.compile(r'.*[0-9]$')\n",
    "    if text.match(string):\n",
    "        return True\n",
    "    else:\n",
    "        return False\n",
    "print(numAtEnd(\"kamal@123\"))\n",
    "print(numAtEnd(\"sriram\"))\n",
    "print(numAtEnd(\"shiva@654\"))"
   ]
  },
  {
   "cell_type": "markdown",
   "id": "1bc18ba1",
   "metadata": {},
   "source": [
    "## Write a python program to search the numbers (0-9) of length between 1 to 3 in a given string"
   ]
  },
  {
   "cell_type": "code",
   "execution_count": 31,
   "id": "ce7ab569",
   "metadata": {},
   "outputs": [
    {
     "name": "stdout",
     "output_type": "stream",
     "text": [
      "Number whose length between 1 to 3\n",
      "1\n",
      "2\n",
      "16\n",
      "111\n"
     ]
    }
   ],
   "source": [
    "results = re.finditer(r'([0-9]{1,3})', 'Question number 1, 2, 16 and 111 are important')\n",
    "print(\"Number whose length between 1 to 3\")\n",
    "for n in results:\n",
    "    print(n.group(0))"
   ]
  },
  {
   "cell_type": "markdown",
   "id": "a0ffae5c",
   "metadata": {},
   "source": [
    "## write a python program to match a string that contains only uppercase letters"
   ]
  },
  {
   "cell_type": "code",
   "execution_count": 40,
   "id": "bd942615",
   "metadata": {},
   "outputs": [
    {
     "name": "stdout",
     "output_type": "stream",
     "text": [
      "matched !\n",
      "unmatched !\n"
     ]
    }
   ],
   "source": [
    "def onlyUpper(text):\n",
    "    pattern=r'[A-Z]'\n",
    "    if(re.search(pattern, text)):\n",
    "        return 'matched !'\n",
    "    else:\n",
    "        return 'unmatched !'\n",
    "print(onlyUpper(\"KAMALAKANNAN\"))\n",
    "print(onlyUpper(\"kamalakannan\"))"
   ]
  },
  {
   "cell_type": "code",
   "execution_count": null,
   "id": "98838649",
   "metadata": {},
   "outputs": [],
   "source": []
  }
 ],
 "metadata": {
  "kernelspec": {
   "display_name": "Python 3",
   "language": "python",
   "name": "python3"
  },
  "language_info": {
   "codemirror_mode": {
    "name": "ipython",
    "version": 3
   },
   "file_extension": ".py",
   "mimetype": "text/x-python",
   "name": "python",
   "nbconvert_exporter": "python",
   "pygments_lexer": "ipython3",
   "version": "3.8.8"
  }
 },
 "nbformat": 4,
 "nbformat_minor": 5
}
